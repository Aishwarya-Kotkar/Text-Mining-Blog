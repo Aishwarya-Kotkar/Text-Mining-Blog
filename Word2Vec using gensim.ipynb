{
 "cells": [
  {
   "cell_type": "code",
   "execution_count": 1,
   "id": "fb69fa68",
   "metadata": {},
   "outputs": [
    {
     "name": "stdout",
     "output_type": "stream",
     "text": [
      "[=================================-----------------] 67.9% 1129.6/1662.8MB downloaded\n"
     ]
    }
   ],
   "source": [
    "import gensim  # gensim library is a python library or word2vec model for document indexing ,similarity retrival .\n",
    "import gensim.downloader  #download the gensim library\n",
    "google_news_vectorsss = gensim.downloader.load('word2vec-google-news-300')\n",
    "# load the word2vec-google-new-300 dataset that is google news dataset by google has a feature of diamension 300.\n",
    "  "
   ]
  },
  {
   "cell_type": "code",
   "execution_count": 3,
   "id": "a93ef77f",
   "metadata": {},
   "outputs": [
    {
     "name": "stdout",
     "output_type": "stream",
     "text": [
      "Find Capitals of Britain: (Paris - France) + Britain - - -\n",
      "[('London', 0.7541897892951965)]\n",
      "\n"
     ]
    }
   ],
   "source": [
    "# Find Capitals of Britain given Capitals of France: (Paris - France) + Britain =   \n",
    "print(\"Find Capitals of Britain: (Paris - France) + Britain - - -\")  \n",
    "capitals = google_news_vectorsss.most_similar([\"Paris\", \"Britain\"], [\"France\"], topn=1)  \n",
    "#most_similar function is used for finding the similar words of list of the word vectors. \n",
    "#topn is used for retriving the top n no. of word vectors.\n",
    "print(capitals)  \n",
    "print()  "
   ]
  },
  {
   "cell_type": "code",
   "execution_count": 4,
   "id": "44672bcc",
   "metadata": {},
   "outputs": [
    {
     "name": "stdout",
     "output_type": "stream",
     "text": [
      "Find Capitals of German: (Berlin - Germany) + German - - -\n",
      "[('Munich', 0.5476104617118835)]\n",
      "\n"
     ]
    }
   ],
   "source": [
    "# Find Capitals of German given Capitals of Germany: (Berlin - Germany) + German =   \n",
    "print(\"Find Capitals of German: (Berlin - Germany) + German - - -\")  \n",
    "capitals = google_news_vectorsss.most_similar([\"Berlin\", \"German\"], [\"Germany\"], topn=1)  \n",
    "print(capitals)  \n",
    "print()"
   ]
  },
  {
   "cell_type": "code",
   "execution_count": 5,
   "id": "9b738ba6",
   "metadata": {},
   "outputs": [
    {
     "name": "stdout",
     "output_type": "stream",
     "text": [
      "five similar words to BMW: - - -\n",
      "('Audi', 0.7932199835777283)\n",
      "('Mercedes_Benz', 0.7683466672897339)\n",
      "('Porsche', 0.7272197604179382)\n",
      "('Mercedes', 0.7078384160995483)\n",
      "('Volkswagen', 0.6959410905838013)\n",
      "\n"
     ]
    }
   ],
   "source": [
    "# Find words same like BMW  \n",
    "print(\"five similar words to BMW: - - -\")  \n",
    "words1 = google_news_vectorsss.most_similar(\"BMW\", topn=5)  \n",
    "for word in words1:  \n",
    "  print(word)  \n",
    "print()  "
   ]
  },
  {
   "cell_type": "code",
   "execution_count": 6,
   "id": "67e9239f",
   "metadata": {},
   "outputs": [
    {
     "name": "stdout",
     "output_type": "stream",
     "text": [
      "3 similar words to beautiful: - - -\n",
      "('gorgeous', 0.8353005051612854)\n",
      "('lovely', 0.8106936812400818)\n",
      "('stunningly_beautiful', 0.7329413294792175)\n",
      "\n"
     ]
    }
   ],
   "source": [
    "# Find words same like word Beautiful  \n",
    "print(\"3 similar words to beautiful: - - -\")  \n",
    "words = google_news_vectorsss.most_similar(\"beautiful\", topn=3)  \n",
    "for w in words:  \n",
    "  print(w)  \n",
    "print()  \n",
    "   "
   ]
  },
  {
   "cell_type": "code",
   "execution_count": 8,
   "id": "4a711d76",
   "metadata": {},
   "outputs": [
    {
     "name": "stdout",
     "output_type": "stream",
     "text": [
      "Cosine similarity between battle and fight: - - - - - - 0.7021284\n",
      "\n"
     ]
    }
   ],
   "source": [
    "# Find cosine same like word between battle and fight   \n",
    "cosine = google_news_vectorsss.similarity(\"battle\", \"fight\") \n",
    "#similarity method is used for comparing the similarities between list of words \n",
    "print(\"Cosine similarity between battle and fight: - - - - - -\", cosine)  \n",
    "print()  \n",
    "   \n"
   ]
  },
  {
   "cell_type": "code",
   "execution_count": 9,
   "id": "cf95ee2b",
   "metadata": {},
   "outputs": [
    {
     "name": "stdout",
     "output_type": "stream",
     "text": [
      "Cosine similarity between fight and like: - - - - - - 0.121381536\n"
     ]
    }
   ],
   "source": [
    "# Find cosine same like word between fight and like  \n",
    "cosine = google_news_vectorsss.similarity(\"fight\", \"like\")  \n",
    "print(\"Cosine similarity between fight and like: - - - - - -\", cosine)"
   ]
  },
  {
   "cell_type": "code",
   "execution_count": null,
   "id": "85cded3c",
   "metadata": {},
   "outputs": [],
   "source": []
  }
 ],
 "metadata": {
  "kernelspec": {
   "display_name": "Python 3 (ipykernel)",
   "language": "python",
   "name": "python3"
  },
  "language_info": {
   "codemirror_mode": {
    "name": "ipython",
    "version": 3
   },
   "file_extension": ".py",
   "mimetype": "text/x-python",
   "name": "python",
   "nbconvert_exporter": "python",
   "pygments_lexer": "ipython3",
   "version": "3.9.5"
  }
 },
 "nbformat": 4,
 "nbformat_minor": 5
}
