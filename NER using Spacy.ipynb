{
 "cells": [
  {
   "cell_type": "code",
   "execution_count": 1,
   "id": "b28b4fd2",
   "metadata": {},
   "outputs": [],
   "source": [
    "#Install the Spacy library using \"pip install spacy\"\n",
    "import spacy "
   ]
  },
  {
   "cell_type": "code",
   "execution_count": 2,
   "id": "d6c89207",
   "metadata": {},
   "outputs": [],
   "source": [
    "#Download the model en_core_web_sm using command \"python -m spacy download en_core_web_sm \""
   ]
  },
  {
   "cell_type": "code",
   "execution_count": 3,
   "id": "54caae2d",
   "metadata": {},
   "outputs": [],
   "source": [
    "sp_lg = spacy.load(\"en_core_web_sm\") # load the model"
   ]
  },
  {
   "cell_type": "code",
   "execution_count": 4,
   "id": "8c0c9efc",
   "metadata": {},
   "outputs": [
    {
     "name": "stdout",
     "output_type": "stream",
     "text": [
      "{('California', 'GPE'), ('2004', 'DATE'), ('Mark Zuckerberg', 'PERSON'), ('Menlo Park', 'GPE')}\n"
     ]
    }
   ],
   "source": [
    "def spacy_large_ner(document):\n",
    "    return {(ent.text.strip(), ent.label_) for ent in sp_lg(document).ents} # iteartes through the named entities used in document\n",
    "#for each entity it return the text of entity and corresponding labels through the tuple\n",
    "example_document = '''Mark Zuckerberg founded Facebook in 2004 in Menlo Park, California'''\n",
    "\n",
    "ner_results = spacy_large_ner(example_document)\n",
    "print(ner_results)\n"
   ]
  },
  {
   "cell_type": "code",
   "execution_count": null,
   "id": "f387bf5d",
   "metadata": {},
   "outputs": [],
   "source": []
  }
 ],
 "metadata": {
  "kernelspec": {
   "display_name": "Python 3 (ipykernel)",
   "language": "python",
   "name": "python3"
  },
  "language_info": {
   "codemirror_mode": {
    "name": "ipython",
    "version": 3
   },
   "file_extension": ".py",
   "mimetype": "text/x-python",
   "name": "python",
   "nbconvert_exporter": "python",
   "pygments_lexer": "ipython3",
   "version": "3.9.5"
  }
 },
 "nbformat": 4,
 "nbformat_minor": 5
}
